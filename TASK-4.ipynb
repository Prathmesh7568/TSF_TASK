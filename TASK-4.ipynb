{
 "cells": [
  {
   "cell_type": "markdown",
   "id": "0d5bdae9",
   "metadata": {},
   "source": [
    "# TASK 4 - Exploratory Data Analysis-Terrorism"
   ]
  },
  {
   "cell_type": "markdown",
   "id": "f2badd8e",
   "metadata": {},
   "source": [
    "### Author - Prathmesh Mhatre"
   ]
  },
  {
   "cell_type": "markdown",
   "id": "17f6d7eb",
   "metadata": {},
   "source": [
    "### GRIP @ The Sparks Foundation"
   ]
  },
  {
   "cell_type": "markdown",
   "id": "0fb304bd",
   "metadata": {},
   "source": [
    "### GRIPJANUARY23"
   ]
  },
  {
   "cell_type": "markdown",
   "id": "fbbf7fc7",
   "metadata": {},
   "source": [
    "### Problem Statement - It's required to find out the hot zone of terrorism."
   ]
  },
  {
   "cell_type": "code",
   "execution_count": 31,
   "id": "f3794a3a",
   "metadata": {},
   "outputs": [],
   "source": [
    "# Importing the needed libraries\n",
    "import numpy as np \n",
    "import pandas as pd\n",
    "import seaborn as sns\n",
    "import matplotlib.pyplot as plt\n",
    "import warnings as wg\n",
    "wg.filterwarnings(\"ignore\")"
   ]
  },
  {
   "cell_type": "code",
   "execution_count": 32,
   "id": "d2c02765",
   "metadata": {},
   "outputs": [],
   "source": [
    "df=pd.read_csv('globalterrorismdb_0718dist.csv',encoding='ISO-8859-1', low_memory=False)"
   ]
  },
  {
   "cell_type": "code",
   "execution_count": 33,
   "id": "b39f9cbd",
   "metadata": {},
   "outputs": [
    {
     "data": {
      "text/html": [
       "<div>\n",
       "<style scoped>\n",
       "    .dataframe tbody tr th:only-of-type {\n",
       "        vertical-align: middle;\n",
       "    }\n",
       "\n",
       "    .dataframe tbody tr th {\n",
       "        vertical-align: top;\n",
       "    }\n",
       "\n",
       "    .dataframe thead th {\n",
       "        text-align: right;\n",
       "    }\n",
       "</style>\n",
       "<table border=\"1\" class=\"dataframe\">\n",
       "  <thead>\n",
       "    <tr style=\"text-align: right;\">\n",
       "      <th></th>\n",
       "      <th>eventid</th>\n",
       "      <th>iyear</th>\n",
       "      <th>imonth</th>\n",
       "      <th>iday</th>\n",
       "      <th>approxdate</th>\n",
       "      <th>extended</th>\n",
       "      <th>resolution</th>\n",
       "      <th>country</th>\n",
       "      <th>country_txt</th>\n",
       "      <th>region</th>\n",
       "      <th>...</th>\n",
       "      <th>addnotes</th>\n",
       "      <th>scite1</th>\n",
       "      <th>scite2</th>\n",
       "      <th>scite3</th>\n",
       "      <th>dbsource</th>\n",
       "      <th>INT_LOG</th>\n",
       "      <th>INT_IDEO</th>\n",
       "      <th>INT_MISC</th>\n",
       "      <th>INT_ANY</th>\n",
       "      <th>related</th>\n",
       "    </tr>\n",
       "  </thead>\n",
       "  <tbody>\n",
       "    <tr>\n",
       "      <th>0</th>\n",
       "      <td>197000000001</td>\n",
       "      <td>1970</td>\n",
       "      <td>7</td>\n",
       "      <td>2</td>\n",
       "      <td>NaN</td>\n",
       "      <td>0</td>\n",
       "      <td>NaN</td>\n",
       "      <td>58</td>\n",
       "      <td>Dominican Republic</td>\n",
       "      <td>2</td>\n",
       "      <td>...</td>\n",
       "      <td>NaN</td>\n",
       "      <td>NaN</td>\n",
       "      <td>NaN</td>\n",
       "      <td>NaN</td>\n",
       "      <td>PGIS</td>\n",
       "      <td>0</td>\n",
       "      <td>0</td>\n",
       "      <td>0</td>\n",
       "      <td>0</td>\n",
       "      <td>NaN</td>\n",
       "    </tr>\n",
       "    <tr>\n",
       "      <th>1</th>\n",
       "      <td>197000000002</td>\n",
       "      <td>1970</td>\n",
       "      <td>0</td>\n",
       "      <td>0</td>\n",
       "      <td>NaN</td>\n",
       "      <td>0</td>\n",
       "      <td>NaN</td>\n",
       "      <td>130</td>\n",
       "      <td>Mexico</td>\n",
       "      <td>1</td>\n",
       "      <td>...</td>\n",
       "      <td>NaN</td>\n",
       "      <td>NaN</td>\n",
       "      <td>NaN</td>\n",
       "      <td>NaN</td>\n",
       "      <td>PGIS</td>\n",
       "      <td>0</td>\n",
       "      <td>1</td>\n",
       "      <td>1</td>\n",
       "      <td>1</td>\n",
       "      <td>NaN</td>\n",
       "    </tr>\n",
       "    <tr>\n",
       "      <th>2</th>\n",
       "      <td>197001000001</td>\n",
       "      <td>1970</td>\n",
       "      <td>1</td>\n",
       "      <td>0</td>\n",
       "      <td>NaN</td>\n",
       "      <td>0</td>\n",
       "      <td>NaN</td>\n",
       "      <td>160</td>\n",
       "      <td>Philippines</td>\n",
       "      <td>5</td>\n",
       "      <td>...</td>\n",
       "      <td>NaN</td>\n",
       "      <td>NaN</td>\n",
       "      <td>NaN</td>\n",
       "      <td>NaN</td>\n",
       "      <td>PGIS</td>\n",
       "      <td>-9</td>\n",
       "      <td>-9</td>\n",
       "      <td>1</td>\n",
       "      <td>1</td>\n",
       "      <td>NaN</td>\n",
       "    </tr>\n",
       "    <tr>\n",
       "      <th>3</th>\n",
       "      <td>197001000002</td>\n",
       "      <td>1970</td>\n",
       "      <td>1</td>\n",
       "      <td>0</td>\n",
       "      <td>NaN</td>\n",
       "      <td>0</td>\n",
       "      <td>NaN</td>\n",
       "      <td>78</td>\n",
       "      <td>Greece</td>\n",
       "      <td>8</td>\n",
       "      <td>...</td>\n",
       "      <td>NaN</td>\n",
       "      <td>NaN</td>\n",
       "      <td>NaN</td>\n",
       "      <td>NaN</td>\n",
       "      <td>PGIS</td>\n",
       "      <td>-9</td>\n",
       "      <td>-9</td>\n",
       "      <td>1</td>\n",
       "      <td>1</td>\n",
       "      <td>NaN</td>\n",
       "    </tr>\n",
       "    <tr>\n",
       "      <th>4</th>\n",
       "      <td>197001000003</td>\n",
       "      <td>1970</td>\n",
       "      <td>1</td>\n",
       "      <td>0</td>\n",
       "      <td>NaN</td>\n",
       "      <td>0</td>\n",
       "      <td>NaN</td>\n",
       "      <td>101</td>\n",
       "      <td>Japan</td>\n",
       "      <td>4</td>\n",
       "      <td>...</td>\n",
       "      <td>NaN</td>\n",
       "      <td>NaN</td>\n",
       "      <td>NaN</td>\n",
       "      <td>NaN</td>\n",
       "      <td>PGIS</td>\n",
       "      <td>-9</td>\n",
       "      <td>-9</td>\n",
       "      <td>1</td>\n",
       "      <td>1</td>\n",
       "      <td>NaN</td>\n",
       "    </tr>\n",
       "  </tbody>\n",
       "</table>\n",
       "<p>5 rows × 135 columns</p>\n",
       "</div>"
      ],
      "text/plain": [
       "        eventid  iyear  imonth  iday approxdate  extended resolution  country  \\\n",
       "0  197000000001   1970       7     2        NaN         0        NaN       58   \n",
       "1  197000000002   1970       0     0        NaN         0        NaN      130   \n",
       "2  197001000001   1970       1     0        NaN         0        NaN      160   \n",
       "3  197001000002   1970       1     0        NaN         0        NaN       78   \n",
       "4  197001000003   1970       1     0        NaN         0        NaN      101   \n",
       "\n",
       "          country_txt  region  ... addnotes scite1 scite2  scite3  dbsource  \\\n",
       "0  Dominican Republic       2  ...      NaN    NaN    NaN     NaN      PGIS   \n",
       "1              Mexico       1  ...      NaN    NaN    NaN     NaN      PGIS   \n",
       "2         Philippines       5  ...      NaN    NaN    NaN     NaN      PGIS   \n",
       "3              Greece       8  ...      NaN    NaN    NaN     NaN      PGIS   \n",
       "4               Japan       4  ...      NaN    NaN    NaN     NaN      PGIS   \n",
       "\n",
       "   INT_LOG  INT_IDEO INT_MISC INT_ANY  related  \n",
       "0        0         0        0       0      NaN  \n",
       "1        0         1        1       1      NaN  \n",
       "2       -9        -9        1       1      NaN  \n",
       "3       -9        -9        1       1      NaN  \n",
       "4       -9        -9        1       1      NaN  \n",
       "\n",
       "[5 rows x 135 columns]"
      ]
     },
     "execution_count": 33,
     "metadata": {},
     "output_type": "execute_result"
    }
   ],
   "source": [
    "df.head()"
   ]
  },
  {
   "cell_type": "code",
   "execution_count": 34,
   "id": "7986a7ac",
   "metadata": {},
   "outputs": [
    {
     "data": {
      "text/plain": [
       "(181691, 135)"
      ]
     },
     "execution_count": 34,
     "metadata": {},
     "output_type": "execute_result"
    }
   ],
   "source": [
    "df.shape"
   ]
  },
  {
   "cell_type": "code",
   "execution_count": 35,
   "id": "00928c91",
   "metadata": {
    "scrolled": false
   },
   "outputs": [
    {
     "name": "stdout",
     "output_type": "stream",
     "text": [
      "<class 'pandas.core.frame.DataFrame'>\n",
      "RangeIndex: 181691 entries, 0 to 181690\n",
      "Data columns (total 135 columns):\n",
      " #    Column              Dtype  \n",
      "---   ------              -----  \n",
      " 0    eventid             int64  \n",
      " 1    iyear               int64  \n",
      " 2    imonth              int64  \n",
      " 3    iday                int64  \n",
      " 4    approxdate          object \n",
      " 5    extended            int64  \n",
      " 6    resolution          object \n",
      " 7    country             int64  \n",
      " 8    country_txt         object \n",
      " 9    region              int64  \n",
      " 10   region_txt          object \n",
      " 11   provstate           object \n",
      " 12   city                object \n",
      " 13   latitude            float64\n",
      " 14   longitude           float64\n",
      " 15   specificity         float64\n",
      " 16   vicinity            int64  \n",
      " 17   location            object \n",
      " 18   summary             object \n",
      " 19   crit1               int64  \n",
      " 20   crit2               int64  \n",
      " 21   crit3               int64  \n",
      " 22   doubtterr           float64\n",
      " 23   alternative         float64\n",
      " 24   alternative_txt     object \n",
      " 25   multiple            float64\n",
      " 26   success             int64  \n",
      " 27   suicide             int64  \n",
      " 28   attacktype1         int64  \n",
      " 29   attacktype1_txt     object \n",
      " 30   attacktype2         float64\n",
      " 31   attacktype2_txt     object \n",
      " 32   attacktype3         float64\n",
      " 33   attacktype3_txt     object \n",
      " 34   targtype1           int64  \n",
      " 35   targtype1_txt       object \n",
      " 36   targsubtype1        float64\n",
      " 37   targsubtype1_txt    object \n",
      " 38   corp1               object \n",
      " 39   target1             object \n",
      " 40   natlty1             float64\n",
      " 41   natlty1_txt         object \n",
      " 42   targtype2           float64\n",
      " 43   targtype2_txt       object \n",
      " 44   targsubtype2        float64\n",
      " 45   targsubtype2_txt    object \n",
      " 46   corp2               object \n",
      " 47   target2             object \n",
      " 48   natlty2             float64\n",
      " 49   natlty2_txt         object \n",
      " 50   targtype3           float64\n",
      " 51   targtype3_txt       object \n",
      " 52   targsubtype3        float64\n",
      " 53   targsubtype3_txt    object \n",
      " 54   corp3               object \n",
      " 55   target3             object \n",
      " 56   natlty3             float64\n",
      " 57   natlty3_txt         object \n",
      " 58   gname               object \n",
      " 59   gsubname            object \n",
      " 60   gname2              object \n",
      " 61   gsubname2           object \n",
      " 62   gname3              object \n",
      " 63   gsubname3           object \n",
      " 64   motive              object \n",
      " 65   guncertain1         float64\n",
      " 66   guncertain2         float64\n",
      " 67   guncertain3         float64\n",
      " 68   individual          int64  \n",
      " 69   nperps              float64\n",
      " 70   nperpcap            float64\n",
      " 71   claimed             float64\n",
      " 72   claimmode           float64\n",
      " 73   claimmode_txt       object \n",
      " 74   claim2              float64\n",
      " 75   claimmode2          float64\n",
      " 76   claimmode2_txt      object \n",
      " 77   claim3              float64\n",
      " 78   claimmode3          float64\n",
      " 79   claimmode3_txt      object \n",
      " 80   compclaim           float64\n",
      " 81   weaptype1           int64  \n",
      " 82   weaptype1_txt       object \n",
      " 83   weapsubtype1        float64\n",
      " 84   weapsubtype1_txt    object \n",
      " 85   weaptype2           float64\n",
      " 86   weaptype2_txt       object \n",
      " 87   weapsubtype2        float64\n",
      " 88   weapsubtype2_txt    object \n",
      " 89   weaptype3           float64\n",
      " 90   weaptype3_txt       object \n",
      " 91   weapsubtype3        float64\n",
      " 92   weapsubtype3_txt    object \n",
      " 93   weaptype4           float64\n",
      " 94   weaptype4_txt       object \n",
      " 95   weapsubtype4        float64\n",
      " 96   weapsubtype4_txt    object \n",
      " 97   weapdetail          object \n",
      " 98   nkill               float64\n",
      " 99   nkillus             float64\n",
      " 100  nkillter            float64\n",
      " 101  nwound              float64\n",
      " 102  nwoundus            float64\n",
      " 103  nwoundte            float64\n",
      " 104  property            int64  \n",
      " 105  propextent          float64\n",
      " 106  propextent_txt      object \n",
      " 107  propvalue           float64\n",
      " 108  propcomment         object \n",
      " 109  ishostkid           float64\n",
      " 110  nhostkid            float64\n",
      " 111  nhostkidus          float64\n",
      " 112  nhours              float64\n",
      " 113  ndays               float64\n",
      " 114  divert              object \n",
      " 115  kidhijcountry       object \n",
      " 116  ransom              float64\n",
      " 117  ransomamt           float64\n",
      " 118  ransomamtus         float64\n",
      " 119  ransompaid          float64\n",
      " 120  ransompaidus        float64\n",
      " 121  ransomnote          object \n",
      " 122  hostkidoutcome      float64\n",
      " 123  hostkidoutcome_txt  object \n",
      " 124  nreleased           float64\n",
      " 125  addnotes            object \n",
      " 126  scite1              object \n",
      " 127  scite2              object \n",
      " 128  scite3              object \n",
      " 129  dbsource            object \n",
      " 130  INT_LOG             int64  \n",
      " 131  INT_IDEO            int64  \n",
      " 132  INT_MISC            int64  \n",
      " 133  INT_ANY             int64  \n",
      " 134  related             object \n",
      "dtypes: float64(55), int64(22), object(58)\n",
      "memory usage: 187.1+ MB\n"
     ]
    }
   ],
   "source": [
    "df.info(list)"
   ]
  },
  {
   "cell_type": "code",
   "execution_count": 36,
   "id": "5205e38b",
   "metadata": {},
   "outputs": [
    {
     "data": {
      "text/plain": [
       "Index(['EventId', 'Year', 'Country', 'Region', 'latitude', 'longitude',\n",
       "       'Provstate', 'City', 'Crit1', 'Crit2', 'Crit3', 'Success', 'Suicide',\n",
       "       'AttackType', 'TargType', 'TargSubType', 'Nationality', 'Group',\n",
       "       'GunCertain1', 'Claimed', 'WeaponType', 'Killed', 'Wounded'],\n",
       "      dtype='object')"
      ]
     },
     "execution_count": 36,
     "metadata": {},
     "output_type": "execute_result"
    }
   ],
   "source": [
    "\n",
    "#selecting the needed dataset features  for the analysis\n",
    "df2 = df[['eventid', 'iyear','country_txt', 'region_txt', 'latitude', 'longitude', 'provstate', 'city', 'crit1', 'crit2', 'crit3', 'success', 'suicide', 'attacktype1_txt', 'targtype1_txt', 'targsubtype1_txt', 'natlty1_txt','gname', 'guncertain1', 'claimed', 'weaptype1_txt', 'nkill','nwound']]\n",
    "#Renaming for further use\n",
    "df2.rename(columns = {'eventid' : 'EventId', 'iyear' : 'Year','country_txt' : 'Country', 'region_txt' : 'Region', 'provstate' : 'Provstate', 'city' : 'City', 'crit1' : 'Crit1', 'crit2' : 'Crit2', 'crit3' : 'Crit3', 'success' : 'Success', 'suicide' : 'Suicide', 'attacktype1_txt' : 'AttackType', 'targtype1_txt' : 'TargType', 'targsubtype1_txt' : 'TargSubType', 'natlty1_txt' : 'Nationality', 'gname' : 'Group', 'guncertain1' : 'GunCertain1', 'claimed' : 'Claimed', 'weaptype1_txt' : 'WeaponType', 'nkill' : 'Killed','nwound' : 'Wounded'}, inplace = True)\n",
    "df2.columns"
   ]
  },
  {
   "cell_type": "code",
   "execution_count": 37,
   "id": "361ae497",
   "metadata": {},
   "outputs": [
    {
     "name": "stdout",
     "output_type": "stream",
     "text": [
      "<class 'pandas.core.frame.DataFrame'>\n",
      "RangeIndex: 181691 entries, 0 to 181690\n",
      "Data columns (total 23 columns):\n",
      " #   Column       Non-Null Count   Dtype  \n",
      "---  ------       --------------   -----  \n",
      " 0   EventId      181691 non-null  int64  \n",
      " 1   Year         181691 non-null  int64  \n",
      " 2   Country      181691 non-null  object \n",
      " 3   Region       181691 non-null  object \n",
      " 4   latitude     177135 non-null  float64\n",
      " 5   longitude    177134 non-null  float64\n",
      " 6   Provstate    181270 non-null  object \n",
      " 7   City         181257 non-null  object \n",
      " 8   Crit1        181691 non-null  int64  \n",
      " 9   Crit2        181691 non-null  int64  \n",
      " 10  Crit3        181691 non-null  int64  \n",
      " 11  Success      181691 non-null  int64  \n",
      " 12  Suicide      181691 non-null  int64  \n",
      " 13  AttackType   181691 non-null  object \n",
      " 14  TargType     181691 non-null  object \n",
      " 15  TargSubType  171318 non-null  object \n",
      " 16  Nationality  180132 non-null  object \n",
      " 17  Group        181691 non-null  object \n",
      " 18  GunCertain1  181311 non-null  float64\n",
      " 19  Claimed      115571 non-null  float64\n",
      " 20  WeaponType   181691 non-null  object \n",
      " 21  Killed       171378 non-null  float64\n",
      " 22  Wounded      165380 non-null  float64\n",
      "dtypes: float64(6), int64(7), object(10)\n",
      "memory usage: 31.9+ MB\n"
     ]
    }
   ],
   "source": [
    "df2.info()"
   ]
  },
  {
   "cell_type": "code",
   "execution_count": 38,
   "id": "b3437462",
   "metadata": {},
   "outputs": [
    {
     "data": {
      "text/plain": [
       "(181691, 23)"
      ]
     },
     "execution_count": 38,
     "metadata": {},
     "output_type": "execute_result"
    }
   ],
   "source": [
    "df2.shape"
   ]
  },
  {
   "cell_type": "code",
   "execution_count": 39,
   "id": "9610353c",
   "metadata": {},
   "outputs": [],
   "source": [
    "# Creating new feature \"Casualities\" by adding \"Killed\",\"Wounded\" and \"Suicide\" features\n",
    "df2['Casualities'] = df2['Killed'] +df2['Wounded'] + df2[\"Suicide\"]"
   ]
  },
  {
   "cell_type": "code",
   "execution_count": 40,
   "id": "4c76dcf3",
   "metadata": {},
   "outputs": [
    {
     "data": {
      "text/plain": [
       "EventId            0\n",
       "Year               0\n",
       "Country            0\n",
       "Region             0\n",
       "latitude        4556\n",
       "longitude       4557\n",
       "Provstate        421\n",
       "City             434\n",
       "Crit1              0\n",
       "Crit2              0\n",
       "Crit3              0\n",
       "Success            0\n",
       "Suicide            0\n",
       "AttackType         0\n",
       "TargType           0\n",
       "TargSubType    10373\n",
       "Nationality     1559\n",
       "Group              0\n",
       "GunCertain1      380\n",
       "Claimed        66120\n",
       "WeaponType         0\n",
       "Killed         10313\n",
       "Wounded        16311\n",
       "Casualities    16874\n",
       "dtype: int64"
      ]
     },
     "execution_count": 40,
     "metadata": {},
     "output_type": "execute_result"
    }
   ],
   "source": [
    "#checking for missing value\n",
    "df2.isnull().sum()"
   ]
  },
  {
   "cell_type": "code",
   "execution_count": 41,
   "id": "9c0f6812",
   "metadata": {},
   "outputs": [
    {
     "data": {
      "text/html": [
       "<div>\n",
       "<style scoped>\n",
       "    .dataframe tbody tr th:only-of-type {\n",
       "        vertical-align: middle;\n",
       "    }\n",
       "\n",
       "    .dataframe tbody tr th {\n",
       "        vertical-align: top;\n",
       "    }\n",
       "\n",
       "    .dataframe thead th {\n",
       "        text-align: right;\n",
       "    }\n",
       "</style>\n",
       "<table border=\"1\" class=\"dataframe\">\n",
       "  <thead>\n",
       "    <tr style=\"text-align: right;\">\n",
       "      <th></th>\n",
       "      <th>EventId</th>\n",
       "      <th>Year</th>\n",
       "      <th>Country</th>\n",
       "      <th>Region</th>\n",
       "      <th>latitude</th>\n",
       "      <th>longitude</th>\n",
       "      <th>Provstate</th>\n",
       "      <th>City</th>\n",
       "      <th>Crit1</th>\n",
       "      <th>Crit2</th>\n",
       "      <th>...</th>\n",
       "      <th>TargType</th>\n",
       "      <th>TargSubType</th>\n",
       "      <th>Nationality</th>\n",
       "      <th>Group</th>\n",
       "      <th>GunCertain1</th>\n",
       "      <th>Claimed</th>\n",
       "      <th>WeaponType</th>\n",
       "      <th>Killed</th>\n",
       "      <th>Wounded</th>\n",
       "      <th>Casualities</th>\n",
       "    </tr>\n",
       "  </thead>\n",
       "  <tbody>\n",
       "    <tr>\n",
       "      <th>0</th>\n",
       "      <td>197000000001</td>\n",
       "      <td>1970</td>\n",
       "      <td>Dominican Republic</td>\n",
       "      <td>Central America &amp; Caribbean</td>\n",
       "      <td>18.456792</td>\n",
       "      <td>-69.951164</td>\n",
       "      <td>NaN</td>\n",
       "      <td>Santo Domingo</td>\n",
       "      <td>1</td>\n",
       "      <td>1</td>\n",
       "      <td>...</td>\n",
       "      <td>Private Citizens &amp; Property</td>\n",
       "      <td>Named Civilian</td>\n",
       "      <td>Dominican Republic</td>\n",
       "      <td>MANO-D</td>\n",
       "      <td>0.0</td>\n",
       "      <td>NaN</td>\n",
       "      <td>Unknown</td>\n",
       "      <td>1.0</td>\n",
       "      <td>0.0</td>\n",
       "      <td>1.0</td>\n",
       "    </tr>\n",
       "    <tr>\n",
       "      <th>1</th>\n",
       "      <td>197000000002</td>\n",
       "      <td>1970</td>\n",
       "      <td>Mexico</td>\n",
       "      <td>North America</td>\n",
       "      <td>19.371887</td>\n",
       "      <td>-99.086624</td>\n",
       "      <td>Federal</td>\n",
       "      <td>Mexico city</td>\n",
       "      <td>1</td>\n",
       "      <td>1</td>\n",
       "      <td>...</td>\n",
       "      <td>Government (Diplomatic)</td>\n",
       "      <td>Diplomatic Personnel (outside of embassy, cons...</td>\n",
       "      <td>Belgium</td>\n",
       "      <td>23rd of September Communist League</td>\n",
       "      <td>0.0</td>\n",
       "      <td>NaN</td>\n",
       "      <td>Unknown</td>\n",
       "      <td>0.0</td>\n",
       "      <td>0.0</td>\n",
       "      <td>0.0</td>\n",
       "    </tr>\n",
       "    <tr>\n",
       "      <th>2</th>\n",
       "      <td>197001000001</td>\n",
       "      <td>1970</td>\n",
       "      <td>Philippines</td>\n",
       "      <td>Southeast Asia</td>\n",
       "      <td>15.478598</td>\n",
       "      <td>120.599741</td>\n",
       "      <td>Tarlac</td>\n",
       "      <td>Unknown</td>\n",
       "      <td>1</td>\n",
       "      <td>1</td>\n",
       "      <td>...</td>\n",
       "      <td>Journalists &amp; Media</td>\n",
       "      <td>Radio Journalist/Staff/Facility</td>\n",
       "      <td>United States</td>\n",
       "      <td>Unknown</td>\n",
       "      <td>0.0</td>\n",
       "      <td>NaN</td>\n",
       "      <td>Unknown</td>\n",
       "      <td>1.0</td>\n",
       "      <td>0.0</td>\n",
       "      <td>1.0</td>\n",
       "    </tr>\n",
       "    <tr>\n",
       "      <th>3</th>\n",
       "      <td>197001000002</td>\n",
       "      <td>1970</td>\n",
       "      <td>Greece</td>\n",
       "      <td>Western Europe</td>\n",
       "      <td>37.997490</td>\n",
       "      <td>23.762728</td>\n",
       "      <td>Attica</td>\n",
       "      <td>Athens</td>\n",
       "      <td>1</td>\n",
       "      <td>1</td>\n",
       "      <td>...</td>\n",
       "      <td>Government (Diplomatic)</td>\n",
       "      <td>Embassy/Consulate</td>\n",
       "      <td>United States</td>\n",
       "      <td>Unknown</td>\n",
       "      <td>0.0</td>\n",
       "      <td>NaN</td>\n",
       "      <td>Explosives</td>\n",
       "      <td>NaN</td>\n",
       "      <td>NaN</td>\n",
       "      <td>NaN</td>\n",
       "    </tr>\n",
       "    <tr>\n",
       "      <th>4</th>\n",
       "      <td>197001000003</td>\n",
       "      <td>1970</td>\n",
       "      <td>Japan</td>\n",
       "      <td>East Asia</td>\n",
       "      <td>33.580412</td>\n",
       "      <td>130.396361</td>\n",
       "      <td>Fukouka</td>\n",
       "      <td>Fukouka</td>\n",
       "      <td>1</td>\n",
       "      <td>1</td>\n",
       "      <td>...</td>\n",
       "      <td>Government (Diplomatic)</td>\n",
       "      <td>Embassy/Consulate</td>\n",
       "      <td>United States</td>\n",
       "      <td>Unknown</td>\n",
       "      <td>0.0</td>\n",
       "      <td>NaN</td>\n",
       "      <td>Incendiary</td>\n",
       "      <td>NaN</td>\n",
       "      <td>NaN</td>\n",
       "      <td>NaN</td>\n",
       "    </tr>\n",
       "  </tbody>\n",
       "</table>\n",
       "<p>5 rows × 24 columns</p>\n",
       "</div>"
      ],
      "text/plain": [
       "        EventId  Year             Country                       Region  \\\n",
       "0  197000000001  1970  Dominican Republic  Central America & Caribbean   \n",
       "1  197000000002  1970              Mexico                North America   \n",
       "2  197001000001  1970         Philippines               Southeast Asia   \n",
       "3  197001000002  1970              Greece               Western Europe   \n",
       "4  197001000003  1970               Japan                    East Asia   \n",
       "\n",
       "    latitude   longitude Provstate           City  Crit1  Crit2  ...  \\\n",
       "0  18.456792  -69.951164       NaN  Santo Domingo      1      1  ...   \n",
       "1  19.371887  -99.086624   Federal    Mexico city      1      1  ...   \n",
       "2  15.478598  120.599741    Tarlac        Unknown      1      1  ...   \n",
       "3  37.997490   23.762728    Attica         Athens      1      1  ...   \n",
       "4  33.580412  130.396361   Fukouka        Fukouka      1      1  ...   \n",
       "\n",
       "                      TargType  \\\n",
       "0  Private Citizens & Property   \n",
       "1      Government (Diplomatic)   \n",
       "2          Journalists & Media   \n",
       "3      Government (Diplomatic)   \n",
       "4      Government (Diplomatic)   \n",
       "\n",
       "                                         TargSubType         Nationality  \\\n",
       "0                                     Named Civilian  Dominican Republic   \n",
       "1  Diplomatic Personnel (outside of embassy, cons...             Belgium   \n",
       "2                    Radio Journalist/Staff/Facility       United States   \n",
       "3                                  Embassy/Consulate       United States   \n",
       "4                                  Embassy/Consulate       United States   \n",
       "\n",
       "                                Group GunCertain1 Claimed  WeaponType Killed  \\\n",
       "0                              MANO-D         0.0     NaN     Unknown    1.0   \n",
       "1  23rd of September Communist League         0.0     NaN     Unknown    0.0   \n",
       "2                             Unknown         0.0     NaN     Unknown    1.0   \n",
       "3                             Unknown         0.0     NaN  Explosives    NaN   \n",
       "4                             Unknown         0.0     NaN  Incendiary    NaN   \n",
       "\n",
       "   Wounded  Casualities  \n",
       "0      0.0          1.0  \n",
       "1      0.0          0.0  \n",
       "2      0.0          1.0  \n",
       "3      NaN          NaN  \n",
       "4      NaN          NaN  \n",
       "\n",
       "[5 rows x 24 columns]"
      ]
     },
     "execution_count": 41,
     "metadata": {},
     "output_type": "execute_result"
    }
   ],
   "source": [
    "df2.head()"
   ]
  },
  {
   "cell_type": "markdown",
   "id": "c607eb76",
   "metadata": {},
   "source": [
    "## Filling The Missing Value "
   ]
  },
  {
   "cell_type": "code",
   "execution_count": 42,
   "id": "36d870c0",
   "metadata": {},
   "outputs": [],
   "source": [
    "mean=df2[\"latitude\"].mean()\n",
    "df2[\"latitude\"].fillna(mean, inplace=True)"
   ]
  },
  {
   "cell_type": "code",
   "execution_count": 43,
   "id": "e4d5f0d1",
   "metadata": {},
   "outputs": [],
   "source": [
    "mean=df2[\"longitude\"].mean()\n",
    "df2[\"longitude\"].fillna(mean, inplace=True)"
   ]
  },
  {
   "cell_type": "code",
   "execution_count": 44,
   "id": "5c4a3e70",
   "metadata": {},
   "outputs": [],
   "source": [
    "mean=df2[\"GunCertain1\"].mean()\n",
    "df2[\"GunCertain1\"].fillna(mean, inplace=True)"
   ]
  },
  {
   "cell_type": "code",
   "execution_count": 45,
   "id": "ea1c624f",
   "metadata": {},
   "outputs": [],
   "source": [
    "mean=df2[\"Claimed\"].mean()\n",
    "df2[\"Claimed\"].fillna(mean, inplace=True)"
   ]
  },
  {
   "cell_type": "code",
   "execution_count": 46,
   "id": "7a779250",
   "metadata": {},
   "outputs": [],
   "source": [
    "mean=df2[\"Killed\"].mean()\n",
    "df2[\"Killed\"].fillna(mean, inplace=True)"
   ]
  },
  {
   "cell_type": "code",
   "execution_count": 47,
   "id": "f57ebf61",
   "metadata": {},
   "outputs": [],
   "source": [
    "mean=df2[\"Wounded\"].mean()\n",
    "df2[\"Wounded\"].fillna(mean, inplace=True)"
   ]
  },
  {
   "cell_type": "code",
   "execution_count": 48,
   "id": "b448e116",
   "metadata": {},
   "outputs": [],
   "source": [
    "mean=df2[\"Casualities\"].mean()\n",
    "df2[\"Casualities\"].fillna(mean, inplace=True)"
   ]
  },
  {
   "cell_type": "code",
   "execution_count": 49,
   "id": "4839796f",
   "metadata": {},
   "outputs": [
    {
     "data": {
      "text/plain": [
       "EventId            0\n",
       "Year               0\n",
       "Country            0\n",
       "Region             0\n",
       "latitude           0\n",
       "longitude          0\n",
       "Provstate        421\n",
       "City             434\n",
       "Crit1              0\n",
       "Crit2              0\n",
       "Crit3              0\n",
       "Success            0\n",
       "Suicide            0\n",
       "AttackType         0\n",
       "TargType           0\n",
       "TargSubType    10373\n",
       "Nationality     1559\n",
       "Group              0\n",
       "GunCertain1        0\n",
       "Claimed            0\n",
       "WeaponType         0\n",
       "Killed             0\n",
       "Wounded            0\n",
       "Casualities        0\n",
       "dtype: int64"
      ]
     },
     "execution_count": 49,
     "metadata": {},
     "output_type": "execute_result"
    }
   ],
   "source": [
    "df2.isnull().sum()"
   ]
  },
  {
   "cell_type": "code",
   "execution_count": 50,
   "id": "f0e2ea6c",
   "metadata": {},
   "outputs": [
    {
     "data": {
      "text/plain": [
       "EventId        0\n",
       "Year           0\n",
       "Country        0\n",
       "Region         0\n",
       "latitude       0\n",
       "longitude      0\n",
       "Provstate      0\n",
       "City           0\n",
       "Crit1          0\n",
       "Crit2          0\n",
       "Crit3          0\n",
       "Success        0\n",
       "Suicide        0\n",
       "AttackType     0\n",
       "TargType       0\n",
       "TargSubType    0\n",
       "Nationality    0\n",
       "Group          0\n",
       "GunCertain1    0\n",
       "Claimed        0\n",
       "WeaponType     0\n",
       "Killed         0\n",
       "Wounded        0\n",
       "Casualities    0\n",
       "dtype: int64"
      ]
     },
     "execution_count": 50,
     "metadata": {},
     "output_type": "execute_result"
    }
   ],
   "source": [
    "#dropping row with NAN\n",
    "df2=df2.dropna(axis=0)\n",
    "df2.isnull().sum()"
   ]
  },
  {
   "cell_type": "code",
   "execution_count": 51,
   "id": "4c2cb301",
   "metadata": {},
   "outputs": [
    {
     "data": {
      "text/plain": [
       "(170011, 24)"
      ]
     },
     "execution_count": 51,
     "metadata": {},
     "output_type": "execute_result"
    }
   ],
   "source": [
    "df2.shape"
   ]
  },
  {
   "cell_type": "code",
   "execution_count": 52,
   "id": "ac46fffd",
   "metadata": {},
   "outputs": [
    {
     "data": {
      "text/html": [
       "<div>\n",
       "<style scoped>\n",
       "    .dataframe tbody tr th:only-of-type {\n",
       "        vertical-align: middle;\n",
       "    }\n",
       "\n",
       "    .dataframe tbody tr th {\n",
       "        vertical-align: top;\n",
       "    }\n",
       "\n",
       "    .dataframe thead th {\n",
       "        text-align: right;\n",
       "    }\n",
       "</style>\n",
       "<table border=\"1\" class=\"dataframe\">\n",
       "  <thead>\n",
       "    <tr style=\"text-align: right;\">\n",
       "      <th></th>\n",
       "      <th>count</th>\n",
       "      <th>mean</th>\n",
       "      <th>std</th>\n",
       "      <th>min</th>\n",
       "      <th>25%</th>\n",
       "      <th>50%</th>\n",
       "      <th>75%</th>\n",
       "      <th>max</th>\n",
       "    </tr>\n",
       "  </thead>\n",
       "  <tbody>\n",
       "    <tr>\n",
       "      <th>EventId</th>\n",
       "      <td>170011.0</td>\n",
       "      <td>2.002616e+11</td>\n",
       "      <td>1.326883e+09</td>\n",
       "      <td>1.970000e+11</td>\n",
       "      <td>1.990121e+11</td>\n",
       "      <td>2.009013e+11</td>\n",
       "      <td>2.014072e+11</td>\n",
       "      <td>2.017123e+11</td>\n",
       "    </tr>\n",
       "    <tr>\n",
       "      <th>Year</th>\n",
       "      <td>170011.0</td>\n",
       "      <td>2.002550e+03</td>\n",
       "      <td>1.326871e+01</td>\n",
       "      <td>1.970000e+03</td>\n",
       "      <td>1.990000e+03</td>\n",
       "      <td>2.009000e+03</td>\n",
       "      <td>2.014000e+03</td>\n",
       "      <td>2.017000e+03</td>\n",
       "    </tr>\n",
       "    <tr>\n",
       "      <th>latitude</th>\n",
       "      <td>170011.0</td>\n",
       "      <td>2.332026e+01</td>\n",
       "      <td>1.842755e+01</td>\n",
       "      <td>-5.315461e+01</td>\n",
       "      <td>1.174464e+01</td>\n",
       "      <td>3.112402e+01</td>\n",
       "      <td>3.452132e+01</td>\n",
       "      <td>7.463355e+01</td>\n",
       "    </tr>\n",
       "    <tr>\n",
       "      <th>longitude</th>\n",
       "      <td>170011.0</td>\n",
       "      <td>-4.918417e+02</td>\n",
       "      <td>2.090248e+05</td>\n",
       "      <td>-8.618590e+07</td>\n",
       "      <td>-1.400410e-01</td>\n",
       "      <td>4.297707e+01</td>\n",
       "      <td>6.805167e+01</td>\n",
       "      <td>1.793667e+02</td>\n",
       "    </tr>\n",
       "    <tr>\n",
       "      <th>Crit1</th>\n",
       "      <td>170011.0</td>\n",
       "      <td>9.884772e-01</td>\n",
       "      <td>1.067243e-01</td>\n",
       "      <td>0.000000e+00</td>\n",
       "      <td>1.000000e+00</td>\n",
       "      <td>1.000000e+00</td>\n",
       "      <td>1.000000e+00</td>\n",
       "      <td>1.000000e+00</td>\n",
       "    </tr>\n",
       "    <tr>\n",
       "      <th>Crit2</th>\n",
       "      <td>170011.0</td>\n",
       "      <td>9.929063e-01</td>\n",
       "      <td>8.392485e-02</td>\n",
       "      <td>0.000000e+00</td>\n",
       "      <td>1.000000e+00</td>\n",
       "      <td>1.000000e+00</td>\n",
       "      <td>1.000000e+00</td>\n",
       "      <td>1.000000e+00</td>\n",
       "    </tr>\n",
       "    <tr>\n",
       "      <th>Crit3</th>\n",
       "      <td>170011.0</td>\n",
       "      <td>8.681262e-01</td>\n",
       "      <td>3.383545e-01</td>\n",
       "      <td>0.000000e+00</td>\n",
       "      <td>1.000000e+00</td>\n",
       "      <td>1.000000e+00</td>\n",
       "      <td>1.000000e+00</td>\n",
       "      <td>1.000000e+00</td>\n",
       "    </tr>\n",
       "    <tr>\n",
       "      <th>Success</th>\n",
       "      <td>170011.0</td>\n",
       "      <td>9.067237e-01</td>\n",
       "      <td>2.908201e-01</td>\n",
       "      <td>0.000000e+00</td>\n",
       "      <td>1.000000e+00</td>\n",
       "      <td>1.000000e+00</td>\n",
       "      <td>1.000000e+00</td>\n",
       "      <td>1.000000e+00</td>\n",
       "    </tr>\n",
       "    <tr>\n",
       "      <th>Suicide</th>\n",
       "      <td>170011.0</td>\n",
       "      <td>3.573886e-02</td>\n",
       "      <td>1.856389e-01</td>\n",
       "      <td>0.000000e+00</td>\n",
       "      <td>0.000000e+00</td>\n",
       "      <td>0.000000e+00</td>\n",
       "      <td>0.000000e+00</td>\n",
       "      <td>1.000000e+00</td>\n",
       "    </tr>\n",
       "    <tr>\n",
       "      <th>GunCertain1</th>\n",
       "      <td>170011.0</td>\n",
       "      <td>8.228396e-02</td>\n",
       "      <td>2.745205e-01</td>\n",
       "      <td>0.000000e+00</td>\n",
       "      <td>0.000000e+00</td>\n",
       "      <td>0.000000e+00</td>\n",
       "      <td>0.000000e+00</td>\n",
       "      <td>1.000000e+00</td>\n",
       "    </tr>\n",
       "    <tr>\n",
       "      <th>Claimed</th>\n",
       "      <td>170011.0</td>\n",
       "      <td>5.798500e-02</td>\n",
       "      <td>8.461970e-01</td>\n",
       "      <td>-9.000000e+00</td>\n",
       "      <td>0.000000e+00</td>\n",
       "      <td>0.000000e+00</td>\n",
       "      <td>4.966644e-02</td>\n",
       "      <td>1.000000e+00</td>\n",
       "    </tr>\n",
       "    <tr>\n",
       "      <th>Killed</th>\n",
       "      <td>170011.0</td>\n",
       "      <td>2.475805e+00</td>\n",
       "      <td>1.151175e+01</td>\n",
       "      <td>0.000000e+00</td>\n",
       "      <td>0.000000e+00</td>\n",
       "      <td>1.000000e+00</td>\n",
       "      <td>2.000000e+00</td>\n",
       "      <td>1.570000e+03</td>\n",
       "    </tr>\n",
       "    <tr>\n",
       "      <th>Wounded</th>\n",
       "      <td>170011.0</td>\n",
       "      <td>3.252014e+00</td>\n",
       "      <td>3.536195e+01</td>\n",
       "      <td>0.000000e+00</td>\n",
       "      <td>0.000000e+00</td>\n",
       "      <td>0.000000e+00</td>\n",
       "      <td>3.167668e+00</td>\n",
       "      <td>8.191000e+03</td>\n",
       "    </tr>\n",
       "    <tr>\n",
       "      <th>Casualities</th>\n",
       "      <td>170011.0</td>\n",
       "      <td>5.474814e+00</td>\n",
       "      <td>4.129544e+01</td>\n",
       "      <td>0.000000e+00</td>\n",
       "      <td>0.000000e+00</td>\n",
       "      <td>2.000000e+00</td>\n",
       "      <td>5.333327e+00</td>\n",
       "      <td>9.575000e+03</td>\n",
       "    </tr>\n",
       "  </tbody>\n",
       "</table>\n",
       "</div>"
      ],
      "text/plain": [
       "                count          mean           std           min           25%  \\\n",
       "EventId      170011.0  2.002616e+11  1.326883e+09  1.970000e+11  1.990121e+11   \n",
       "Year         170011.0  2.002550e+03  1.326871e+01  1.970000e+03  1.990000e+03   \n",
       "latitude     170011.0  2.332026e+01  1.842755e+01 -5.315461e+01  1.174464e+01   \n",
       "longitude    170011.0 -4.918417e+02  2.090248e+05 -8.618590e+07 -1.400410e-01   \n",
       "Crit1        170011.0  9.884772e-01  1.067243e-01  0.000000e+00  1.000000e+00   \n",
       "Crit2        170011.0  9.929063e-01  8.392485e-02  0.000000e+00  1.000000e+00   \n",
       "Crit3        170011.0  8.681262e-01  3.383545e-01  0.000000e+00  1.000000e+00   \n",
       "Success      170011.0  9.067237e-01  2.908201e-01  0.000000e+00  1.000000e+00   \n",
       "Suicide      170011.0  3.573886e-02  1.856389e-01  0.000000e+00  0.000000e+00   \n",
       "GunCertain1  170011.0  8.228396e-02  2.745205e-01  0.000000e+00  0.000000e+00   \n",
       "Claimed      170011.0  5.798500e-02  8.461970e-01 -9.000000e+00  0.000000e+00   \n",
       "Killed       170011.0  2.475805e+00  1.151175e+01  0.000000e+00  0.000000e+00   \n",
       "Wounded      170011.0  3.252014e+00  3.536195e+01  0.000000e+00  0.000000e+00   \n",
       "Casualities  170011.0  5.474814e+00  4.129544e+01  0.000000e+00  0.000000e+00   \n",
       "\n",
       "                      50%           75%           max  \n",
       "EventId      2.009013e+11  2.014072e+11  2.017123e+11  \n",
       "Year         2.009000e+03  2.014000e+03  2.017000e+03  \n",
       "latitude     3.112402e+01  3.452132e+01  7.463355e+01  \n",
       "longitude    4.297707e+01  6.805167e+01  1.793667e+02  \n",
       "Crit1        1.000000e+00  1.000000e+00  1.000000e+00  \n",
       "Crit2        1.000000e+00  1.000000e+00  1.000000e+00  \n",
       "Crit3        1.000000e+00  1.000000e+00  1.000000e+00  \n",
       "Success      1.000000e+00  1.000000e+00  1.000000e+00  \n",
       "Suicide      0.000000e+00  0.000000e+00  1.000000e+00  \n",
       "GunCertain1  0.000000e+00  0.000000e+00  1.000000e+00  \n",
       "Claimed      0.000000e+00  4.966644e-02  1.000000e+00  \n",
       "Killed       1.000000e+00  2.000000e+00  1.570000e+03  \n",
       "Wounded      0.000000e+00  3.167668e+00  8.191000e+03  \n",
       "Casualities  2.000000e+00  5.333327e+00  9.575000e+03  "
      ]
     },
     "execution_count": 52,
     "metadata": {},
     "output_type": "execute_result"
    }
   ],
   "source": [
    "df2.describe().T"
   ]
  },
  {
   "cell_type": "code",
   "execution_count": 53,
   "id": "fe1fc78d",
   "metadata": {},
   "outputs": [
    {
     "data": {
      "text/plain": [
       "Iraq              22919\n",
       "Pakistan          13246\n",
       "Afghanistan       11711\n",
       "India             11104\n",
       "Colombia           7838\n",
       "Philippines        6502\n",
       "Peru               5864\n",
       "El Salvador        5123\n",
       "United Kingdom     4912\n",
       "Turkey             4080\n",
       "Name: Country, dtype: int64"
      ]
     },
     "execution_count": 53,
     "metadata": {},
     "output_type": "execute_result"
    }
   ],
   "source": [
    "#TOP 10 countries with the hight terrorism\n",
    "Top10_country=df2['Country'].value_counts().head(10)\n",
    "Top10_country"
   ]
  },
  {
   "cell_type": "code",
   "execution_count": 54,
   "id": "2cc5374f",
   "metadata": {},
   "outputs": [
    {
     "data": {
      "image/png": "[encoded data removed]",
      "text/plain": [
       "<Figure size 1440x864 with 1 Axes>"
      ]
     },
     "metadata": {
      "needs_background": "light"
     },
     "output_type": "display_data"
    }
   ],
   "source": [
    "plt.subplots(figsize = (20,12))\n",
    "sns.countplot('Country', data = df2, palette = 'viridis', order = df2['Country'].value_counts()[:20].index)\n",
    "plt.xticks(rotation = 90)\n",
    "plt.xlabel('Countries')\n",
    "plt.title('No. Of Terrorist Activities By Countries')\n",
    "plt.show()"
   ]
  },
  {
   "cell_type": "code",
   "execution_count": 55,
   "id": "c5044117",
   "metadata": {},
   "outputs": [
    {
     "data": {
      "text/plain": [
       "Antigua and Barbuda    1\n",
       "Falkland Islands       1\n",
       "International          1\n",
       "Wallis and Futuna      1\n",
       "St. Lucia              1\n",
       "Andorra                1\n",
       "South Vietnam          1\n",
       "Vanuatu                1\n",
       "New Hebrides           1\n",
       "Vatican City           1\n",
       "Name: Country, dtype: int64"
      ]
     },
     "execution_count": 55,
     "metadata": {},
     "output_type": "execute_result"
    }
   ],
   "source": [
    "#Bottom 10 countries with the low terrorism\n",
    "B_country=df2['Country'].value_counts().tail(10)\n",
    "B_country"
   ]
  },
  {
   "cell_type": "code",
   "execution_count": 56,
   "id": "b7b18f8f",
   "metadata": {},
   "outputs": [
    {
     "data": {
      "text/plain": [
       "Unknown                                             75831\n",
       "Taliban                                              7096\n",
       "Islamic State of Iraq and the Levant (ISIL)          5367\n",
       "Shining Path (SL)                                    4389\n",
       "Farabundo Marti National Liberation Front (FMLN)     3273\n",
       "Al-Shabaab                                           3206\n",
       "New People's Army (NPA)                              2657\n",
       "Irish Republican Army (IRA)                          2550\n",
       "Revolutionary Armed Forces of Colombia (FARC)        2360\n",
       "Boko Haram                                           2328\n",
       "Name: Group, dtype: int64"
      ]
     },
     "execution_count": 56,
     "metadata": {},
     "output_type": "execute_result"
    }
   ],
   "source": [
    "#TOP 10 Terrorist group\n",
    "df2['Group'].value_counts().head(10)"
   ]
  },
  {
   "cell_type": "code",
   "execution_count": 57,
   "id": "cd9c08c2",
   "metadata": {},
   "outputs": [
    {
     "data": {
      "image/png": "[encoded data removed]",
      "text/plain": [
       "<Figure size 1440x576 with 1 Axes>"
      ]
     },
     "metadata": {
      "needs_background": "light"
     },
     "output_type": "display_data"
    }
   ],
   "source": [
    "plt.subplots(figsize = (20,8))\n",
    "sns.countplot('Group', data = df2, palette = 'crest', order = df2['Group'].value_counts()[:20].index)\n",
    "plt.xticks(rotation = 90)\n",
    "plt.xlabel('Terrorist Group')\n",
    "plt.title('No. Of Terrorist Group')\n",
    "plt.show()"
   ]
  },
  {
   "cell_type": "code",
   "execution_count": 58,
   "id": "5abc5aff",
   "metadata": {},
   "outputs": [
    {
     "data": {
      "text/plain": [
       "Private Citizens & Property    42477\n",
       "Military                       27765\n",
       "Police                         24304\n",
       "Government (General)           21035\n",
       "Business                       17908\n",
       "Name: TargType, dtype: int64"
      ]
     },
     "execution_count": 58,
     "metadata": {},
     "output_type": "execute_result"
    }
   ],
   "source": [
    "#Types of Targets\n",
    "df3= df2['TargType'].value_counts().head()\n",
    "df3"
   ]
  },
  {
   "cell_type": "code",
   "execution_count": 59,
   "id": "a3ff553a",
   "metadata": {},
   "outputs": [
    {
     "data": {
      "image/png": "[encoded data removed]",
      "text/plain": [
       "<Figure size 1440x648 with 1 Axes>"
      ]
     },
     "metadata": {
      "needs_background": "light"
     },
     "output_type": "display_data"
    }
   ],
   "source": [
    "df3[0:10].plot.bar(color=\"skyblue\");\n",
    "fig = plt.gcf();\n",
    "fig.set_size_inches(20, 9);\n",
    "plt.title(\"Target Type\");"
   ]
  },
  {
   "cell_type": "code",
   "execution_count": 61,
   "id": "a2646bd3",
   "metadata": {},
   "outputs": [
    {
     "data": {
      "text/plain": [
       "Bombing/Explosion                      80331\n",
       "Armed Assault                          41400\n",
       "Assassination                          18394\n",
       "Hostage Taking (Kidnapping)            10483\n",
       "Facility/Infrastructure Attack          9837\n",
       "Unknown                                 7007\n",
       "Unarmed Assault                          973\n",
       "Hostage Taking (Barricade Incident)      970\n",
       "Hijacking                                616\n",
       "Name: AttackType, dtype: int64"
      ]
     },
     "execution_count": 61,
     "metadata": {},
     "output_type": "execute_result"
    }
   ],
   "source": [
    "#types of Attacks\n",
    "count_att = df2['AttackType'].value_counts().head(10)\n",
    "count_att"
   ]
  },
  {
   "cell_type": "code",
   "execution_count": 63,
   "id": "846de52e",
   "metadata": {},
   "outputs": [
    {
     "data": {
      "image/png": "[encoded data removed]",
      "text/plain": [
       "<Figure size 1368x432 with 1 Axes>"
      ]
     },
     "metadata": {
      "needs_background": "light"
     },
     "output_type": "display_data"
    }
   ],
   "source": [
    "count_att[0:20].plot.bar(color=\"Pink\");\n",
    "fig = plt.gcf();\n",
    "fig.set_size_inches(19, 6);\n",
    "plt.title(\"Type of Attacks\");"
   ]
  },
  {
   "cell_type": "markdown",
   "id": "d45a2366",
   "metadata": {},
   "source": [
    "# CONCLUSION -"
   ]
  },
  {
   "cell_type": "markdown",
   "id": "8cc86a9c",
   "metadata": {},
   "source": [
    "### 1.Country with Highest Terrorist Attacks: Iraq"
   ]
  },
  {
   "cell_type": "markdown",
   "id": "fad73fa5",
   "metadata": {},
   "source": [
    "### 2.Regions with Highest Terrorist Attacks: Middle East & North Africa"
   ]
  },
  {
   "cell_type": "markdown",
   "id": "92e1bb3c",
   "metadata": {},
   "source": [
    "### 3.Maximum people killed in Attack : 1570.0 that took place in Iraq"
   ]
  }
 ],
 "metadata": {
  "kernelspec": {
   "display_name": "Python 3 (ipykernel)",
   "language": "python",
   "name": "python3"
  },
  "language_info": {
   "codemirror_mode": {
    "name": "ipython",
    "version": 3
   },
   "file_extension": ".py",
   "mimetype": "text/x-python",
   "name": "python",
   "nbconvert_exporter": "python",
   "pygments_lexer": "ipython3",
   "version": "3.9.7"
  }
 },
 "nbformat": 4,
 "nbformat_minor": 5
}
